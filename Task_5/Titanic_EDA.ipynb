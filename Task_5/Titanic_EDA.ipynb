{
 "cells": [
  {
   "cell_type": "markdown",
   "metadata": {},
   "source": [
    "# Titanic Dataset EDA Notebook"
   ]
  },
  {
   "cell_type": "code",
   "execution_count": null,
   "metadata": {},
   "outputs": [],
   "source": [
    "# 1. Import Libraries\n",
    "import pandas as pd\n",
    "import matplotlib.pyplot as plt\n",
    "import seaborn as sns\n",
    "\n",
    "# Settings for better plots\n",
    "sns.set(style=\"whitegrid\")\n",
    "plt.rcParams['figure.figsize'] = (10,6)"
   ]
  },
  {
   "cell_type": "code",
   "execution_count": null,
   "metadata": {},
   "outputs": [],
   "source": [
    "# 2. Load Dataset\n",
    "train_df = pd.read_csv('train.csv')\n",
    "test_df = pd.read_csv('test.csv')"
   ]
  },
  {
   "cell_type": "code",
   "execution_count": null,
   "metadata": {},
   "outputs": [],
   "source": [
    "# 3. Data Overview\n",
    "print(\"\\n--- Data Info ---\")\n",
    "print(train_df.info())\n",
    "\n",
    "print(\"\\n--- Data Description ---\")\n",
    "print(train_df.describe())\n",
    "\n",
    "print(\"\\n--- Missing Values ---\")\n",
    "print(train_df.isnull().sum())"
   ]
  },
  {
   "cell_type": "code",
   "execution_count": null,
   "metadata": {},
   "outputs": [],
   "source": [
    "# 4. Univariate Analysis\n",
    "print(\"\\n--- Target Variable: Survival ---\")\n",
    "sns.countplot(x='Survived', data=train_df)\n",
    "plt.title('Distribution of Survival')\n",
    "plt.show()\n",
    "\n",
    "print(\"\\n--- Categorical Features ---\")\n",
    "categorical_cols = ['Pclass', 'Sex', 'Embarked']\n",
    "for col in categorical_cols:\n",
    "    sns.countplot(x=col, data=train_df)\n",
    "    plt.title(f'Distribution of {col}')\n",
    "    plt.show()\n",
    "\n",
    "print(\"\\n--- Numerical Features ---\")\n",
    "train_df[['Age', 'Fare']].hist(bins=30, figsize=(12,6))\n",
    "plt.suptitle('Histograms of Age and Fare')\n",
    "plt.show()\n",
    "\n",
    "print(\"\\n--- Boxplots to Detect Outliers ---\")\n",
    "for col in ['Age', 'Fare']:\n",
    "    sns.boxplot(x=train_df[col])\n",
    "    plt.title(f'Boxplot of {col}')\n",
    "    plt.show()"
   ]
  },
  {
   "cell_type": "code",
   "execution_count": null,
   "metadata": {},
   "outputs": [],
   "source": [
    "# 5. Bivariate Analysis\n",
    "print(\"\\n--- Survival vs Categorical Features ---\")\n",
    "for col in categorical_cols:\n",
    "    sns.countplot(x=col, hue='Survived', data=train_df)\n",
    "    plt.title(f'Survival Rate by {col}')\n",
    "    plt.show()\n",
    "\n",
    "print(\"\\n--- Survival vs Numerical Features ---\")\n",
    "sns.histplot(data=train_df, x='Age', hue='Survived', multiple='stack')\n",
    "plt.title('Age Distribution by Survival')\n",
    "plt.show()\n",
    "\n",
    "sns.histplot(data=train_df, x='Fare', hue='Survived', multiple='stack')\n",
    "plt.title('Fare Distribution by Survival')\n",
    "plt.show()"
   ]
  },
  {
   "cell_type": "code",
   "execution_count": null,
   "metadata": {},
   "outputs": [],
   "source": [
    "# 6. Multivariate Analysis\n",
    "print(\"\\n--- Correlation Heatmap ---\")\n",
    "plt.figure(figsize=(10,8))\n",
    "sns.heatmap(train_df.corr(), annot=True, cmap='coolwarm')\n",
    "plt.title('Correlation Heatmap')\n",
    "plt.show()\n",
    "\n",
    "print(\"\\n--- Pairplot of Selected Features ---\")\n",
    "sns.pairplot(train_df, vars=['Age', 'Fare', 'Pclass', 'SibSp', 'Parch'], hue='Survived')\n",
    "plt.show()"
   ]
  },
  {
   "cell_type": "markdown",
   "metadata": {},
   "source": [
    "# 7. Insights and Findings\n",
    "- Females survived at a much higher rate than males.\n",
    "- 1st Class passengers had a higher survival rate.\n",
    "- Higher fare was correlated with higher survival.\n",
    "- Young children had better survival odds."
   ]
  },
  {
   "cell_type": "markdown",
   "metadata": {},
   "source": [
    "# 8. Conclusion\n",
    "- Key factors influencing survival: Sex, Pclass, Fare, Age.\n",
    "- Recommend feature engineering and modeling as next steps."
   ]
  }
 ],
 "metadata": {
  "kernelspec": {
   "display_name": "Python 3",
   "language": "python",
   "name": "python3"
  },
  "language_info": {
   "name": "python",
   "version": ""
  }
 },
 "nbformat": 4,
 "nbformat_minor": 5
}
